{
 "cells": [
  {
   "cell_type": "markdown",
   "metadata": {},
   "source": [
    "Spectroscope-Telescope matching\n",
    "===============================\n",
    "Tony Rodda 31 March 2019\n",
    "\n",
    "The original Lowspec was produced with a 25.4mm diameter, 125mm focal length doublet collimating\n",
    "lens giving an F5 focal ratio. \n",
    "\n",
    "The Lowspec2 (LS2) has the same lens but the lens holder is stopped\n",
    "down to F10 by baffling the lens holder and reducing the effective diameter to 12mm. \n",
    "\n",
    "I have altered the .stl print file such that the collimating lens holder can be varied and \n",
    "my own LS2 has a ratio of F7 which more accurately suits my SCT ‘scope."
   ]
  },
  {
   "cell_type": "markdown",
   "metadata": {},
   "source": [
    "Slit-Camera Matching\n",
    "-------------------------------\n",
    "The LS2 uses an Ovio disc with twelve various slits ranging from 10µm to 500µm.\n",
    "I’ve used a collimating lens of 120mm focal length and a camera lens of 80mm focal length.\n",
    "(nb. The LS2 specification is for 125mm and 100mm fl lenses respectively).\n",
    "\n",
    "Using, for example, the 30µm slit, the slit image to “Detector” image magnification, for my machine, is:\n",
    "\n",
    "$\n",
    "\\begin{align}\n",
    "fl_{col} &= 120\\\\\n",
    "fl_{cam} &= 80\\\\\n",
    "W_{slit\\;image} &= 30 \\times \\frac{fl_{cam}}{fl_{col}} = 20 \\times \\frac{80}{120} = 20 \\;\\;[\\mu{m}]\n",
    "\\end{align}\n",
    "$\n",
    "\n",
    "the slit image to \"Detector\" image magnification for the LS2 specification, is:\n",
    "\n",
    "$\\begin{align}\n",
    "W_{slit} &= 30 \\times \\frac{100}{125} = 24 \\;\\;[\\mu{m}]\n",
    "\\end{align}\n",
    "$\n",
    "\n",
    "Using the Nyquist approximation for 2.5 to 3 sample pixels per FWHM, I need CCD pixels of the order of 6.5 $\\mu{m}$.\n",
    "This is 1x1 binning for my SXVH9 for which with 6.45 $\\mu{m}$ is well sampled; and 2x2 binning for my Atik460, which possesses 4.54 µm pixels, for which 2.2 sampling is just adequate."
   ]
  },
  {
   "attachments": {},
   "cell_type": "markdown",
   "metadata": {},
   "source": [
    "Dispersion and Resolution – LS2 with 300l/mm grating and 30µm slit.\n",
    "--------------------\n",
    "Using the lamp calibration frame before for the LS2 with 300 l/mm grating the calibrated image gives a dispersion (on the SXVH9 chip) of 0.3 $nm$ per pixel.\n",
    "\n",
    "Ten x 8 second images were taken with the LS2 mounted on a 235mm 6.3 fl SCT with the neon lamp at the corrector plate with an SXVH9 recording 34,000+ counts for the brightest lines.  \n",
    "\n",
    "![Cal Lamp Lines](images/Figure1.png)\n",
    "\n",
    "This suggests a range of 420 $nm$ over 1392 pixels giving a dispersion of:\n",
    "420/1392 ≈ 0.3 $nm/pixel$ (confirmed by BASS[^1] software).\n",
    "Or, a plate scale of ≈ 46.5$nm/mm$.\n",
    "\n",
    "The following FWHM was produced by BASS from the above image/chart from 585nm to approximately H$\\alpha$,\n",
    "\n",
    "Profile        : 01 LS2/300 Neon Stacked  \n",
    "Date           : 23/03/2019 20:12:46 (23.8422 /03/2019)  \n",
    "FWHM           : 0.635315nm (R = 921 @585.255nm) 2.51862 px  \n",
    "\n",
    "And \n",
    "\n",
    "FWHM           : 0.860413nm (R = 767 @659.825nm) 3.40332 px  \n",
    "(note, an ideal fitting the Nyquist requirement).\n",
    "\n",
    "That is, FWHM of ≈ 3 pixels giving a Resolution (for the calibration image) of ≈ 800.\n",
    "Check based on 3px x 0.3 dispersion (from above) = 0.9   so, R = $\\lambda$/$\\Delta\\lambda$ = 659/0.9 = 732 worse case.\n",
    "\n",
    "[1]: British Astronomical Society Spectrography  https://britastro.org/node/10520"
   ]
  },
  {
   "cell_type": "markdown",
   "metadata": {},
   "source": [
    "INDICATIVE Dispersion and Resolution – TR2 with 1800l/mm grating and 30µm slit.\n",
    "------------------------\n",
    "Using the lamp calibration frame for the TR2 with a 1800l/mm grating the calibrated image gives a dispersion (on the SXVH9 chip) of 0.042 nm per pixel.\n",
    "\n",
    "One image was taken with a bench mounted TR2 mounted on a 50mm F7 refractor (containing a single doublet objective) with the neon lamp at “infinity” with an SXVH9 recording 6,000+ counts for the brightest lines.  (Background counts of ~ 250).\n",
    "\n",
    "There was some asymmetry in the emission lines due to the positioning of the neon bulb.\n",
    "\n",
    "This suggests a range of 678 – 619 = 59 nm over 1392 pixels giving a dispersion of:\n",
    "\n",
    "≈ 0.042 nm/pixel (confirmed by BASS software).\n",
    "\n",
    "Or, a plate scale of ≈ 6.51 nm/mm.\n",
    "\n",
    "The following FWHM was produced by BASS from for approximately H$\\alpha$ wavelength,\n",
    "\n",
    "Profile        : 01 TR21800Neon2.fit  \n",
    "Date           : 16/03/2019 16:33:19 (16.6898 /03/2019)  \n",
    "FWHM           : 0.104736nm (R = 6237 @653.207nm) 2.47864px  \n",
    "\n",
    "That is, FWHM of ≈ 2,5 pixels giving a Resolution (for the calibration image) of ≈ 6,200.\n",
    "Check, based on 2.5px x 0.042 dispersion (from above) = 0.105   so, R = $\\lambda/\\Delta\\lambda$ = 659/0.105 = 6,250.\n",
    "\n",
    "The use of the smaller OVIO 20µm slit, the 1800 l/mm grating and the Atik460 camera binned 1x1 will give excellent sampling and should produce a greater domain and resolution in the 9,000+ range.\n"
   ]
  },
  {
   "cell_type": "markdown",
   "metadata": {},
   "source": []
  }
 ],
 "metadata": {
  "kernelspec": {
   "display_name": "Python 3",
   "language": "python",
   "name": "python3"
  },
  "language_info": {
   "codemirror_mode": {
    "name": "ipython",
    "version": 3
   },
   "file_extension": ".py",
   "mimetype": "text/x-python",
   "name": "python",
   "nbconvert_exporter": "python",
   "pygments_lexer": "ipython3",
   "version": "3.6.7"
  }
 },
 "nbformat": 4,
 "nbformat_minor": 2
}
